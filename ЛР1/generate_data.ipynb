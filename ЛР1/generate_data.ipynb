{
 "cells": [
  {
   "cell_type": "code",
   "execution_count": 79,
   "metadata": {},
   "outputs": [],
   "source": [
    "import faker\n",
    "import uuid\n",
    "import psycopg2\n",
    "from psycopg2.extras import register_uuid"
   ]
  },
  {
   "cell_type": "code",
   "execution_count": 80,
   "metadata": {},
   "outputs": [],
   "source": [
    "fake = faker.Faker()"
   ]
  },
  {
   "cell_type": "code",
   "execution_count": 81,
   "metadata": {},
   "outputs": [],
   "source": [
    "users = []\n",
    "\n",
    "for i in range(2000):\n",
    "    id = uuid.uuid4()\n",
    "    username = fake.user_name()\n",
    "    pwd = fake.password()\n",
    "    users.append(\n",
    "        {\n",
    "            'id': id,\n",
    "            'username': username,\n",
    "            'pwd': pwd,\n",
    "        }\n",
    "    )"
   ]
  },
  {
   "cell_type": "code",
   "execution_count": 82,
   "metadata": {},
   "outputs": [],
   "source": [
    "profiles = []\n",
    "\n",
    "for i in range(len(users)):\n",
    "    user_id = users[i]['id']\n",
    "    id = uuid.uuid4()\n",
    "    users[i]['profile_id'] = id\n",
    "    email = fake.email()\n",
    "    phone = fake.phone_number()\n",
    "    about_me = fake.text(128)\n",
    "    profiles.append(\n",
    "        {\n",
    "            'id': id,\n",
    "            'email': email,\n",
    "            'phone': phone,\n",
    "            'about_me': about_me,\n",
    "            'user_id': user_id,\n",
    "        }\n",
    "    )"
   ]
  },
  {
   "cell_type": "code",
   "execution_count": 83,
   "metadata": {},
   "outputs": [],
   "source": [
    "import random"
   ]
  },
  {
   "cell_type": "code",
   "execution_count": 84,
   "metadata": {},
   "outputs": [],
   "source": [
    "apps = []\n",
    "\n",
    "genres = ['Health', 'Food', 'Business', 'Social media', 'Game', 'Music']\n",
    "\n",
    "for i in range(500):\n",
    "    id = uuid.uuid4()\n",
    "    title = fake.text(64)\n",
    "    downloads = random.randint(0, 100)\n",
    "    price = round((random.random()*10), 2)\n",
    "    recommend = 0 == random.randint(0, 1)\n",
    "    profit = int(random.random()*1e6)\n",
    "    genre = genres[random.randint(0, len(genres) - 1)]\n",
    "    apps.append(\n",
    "        {\n",
    "            'id': id, \n",
    "            'title': title,\n",
    "            'downloads': downloads,\n",
    "            'price': price,\n",
    "            'recommend': recommend,\n",
    "            'profit': profit,\n",
    "            'genre': genre,\n",
    "        }\n",
    "    )"
   ]
  },
  {
   "cell_type": "code",
   "execution_count": 85,
   "metadata": {},
   "outputs": [],
   "source": [
    "import itertools\n",
    "import pandas as pd"
   ]
  },
  {
   "cell_type": "code",
   "execution_count": 87,
   "metadata": {},
   "outputs": [],
   "source": [
    "df_users = pd.DataFrame(users)\n",
    "df_apps = pd.DataFrame(apps)\n",
    "all_pairs = list(itertools.product(df_apps['id'], df_users['id']))\n",
    "\n",
    "num_pairs = 600000\n",
    "random_pairs = random.sample(all_pairs, num_pairs)"
   ]
  },
  {
   "cell_type": "code",
   "execution_count": 88,
   "metadata": {},
   "outputs": [],
   "source": [
    "comments = []\n",
    "\n",
    "num_pairs = 500000\n",
    "pairs_for_comments = random.sample(random_pairs, num_pairs)\n",
    "\n",
    "for i in range(len(pairs_for_comments)):\n",
    "    id = uuid.uuid4()\n",
    "    stars = random.randint(1, 5)\n",
    "    comment_text = fake.text(128)\n",
    "    user_id = pairs_for_comments[i][1]\n",
    "    app_id = pairs_for_comments[i][0]\n",
    "    comments.append(\n",
    "        {\n",
    "            'id': id,\n",
    "            'stars': stars,\n",
    "            'comment_text': comment_text,\n",
    "            'user_id': user_id,\n",
    "            'app_id': app_id,\n",
    "        }\n",
    "    )"
   ]
  },
  {
   "cell_type": "code",
   "execution_count": 89,
   "metadata": {},
   "outputs": [],
   "source": [
    "from datetime import datetime, timedelta"
   ]
  },
  {
   "cell_type": "code",
   "execution_count": 90,
   "metadata": {},
   "outputs": [],
   "source": [
    "payments = []\n",
    "\n",
    "num = 1500000\n",
    "\n",
    "for i in range(num):\n",
    "    id = uuid.uuid4()\n",
    "    cash = random.randint(1, 100)\n",
    "    start_date = datetime.now() - timedelta(days=10)\n",
    "    end_date = start_date + timedelta(days=20)\n",
    "    random_date = start_date + (end_date - start_date) * random.random()\n",
    "    payment_date = random_date.timestamp()\n",
    "    pair = random_pairs[random.randint(0, len(random_pairs) - 1)]\n",
    "    user_id = pair[1]\n",
    "    app_id = pair[0]\n",
    "    payments.append(\n",
    "        {\n",
    "            'id': id,\n",
    "            'cash': cash,\n",
    "            'payment_date': payment_date,\n",
    "            'user_id': user_id,\n",
    "            'app_id': app_id,\n",
    "        }\n",
    "    )\n"
   ]
  },
  {
   "cell_type": "code",
   "execution_count": 91,
   "metadata": {},
   "outputs": [],
   "source": [
    "sessions = []\n",
    "\n",
    "num = 3000000\n",
    "\n",
    "for i in range(num):\n",
    "    id = uuid.uuid4()\n",
    "    date1 = datetime.now() - timedelta(days=10)\n",
    "    date2 = start_date + timedelta(days=20)\n",
    "    random_date = start_date + (end_date - start_date) * random.random()\n",
    "    start_date = random_date\n",
    "    end_date = start_date + timedelta(seconds=random.random()*1e5)\n",
    "    pair = random_pairs[random.randint(0, len(random_pairs) - 1)]\n",
    "    user_id = pair[1]\n",
    "    app_id = pair[0]\n",
    "    sessions.append(\n",
    "        {\n",
    "            'id': id,\n",
    "            'start_date': start_date,\n",
    "            'end_date': end_date,\n",
    "            'user_id': user_id,\n",
    "            'app_id': app_id,\n",
    "        }\n",
    "    )\n"
   ]
  },
  {
   "cell_type": "code",
   "execution_count": 92,
   "metadata": {},
   "outputs": [
    {
     "data": {
      "text/plain": [
       "<psycopg2._psycopg.type 'UUID' at 0x00000168BA271080>"
      ]
     },
     "execution_count": 92,
     "metadata": {},
     "output_type": "execute_result"
    }
   ],
   "source": [
    "conn = psycopg2.connect(\n",
    "    dbname=\"dbes\",\n",
    "    user=\"EgorChitorkin\",\n",
    "    password=\"261101\",\n",
    "    host=\"localhost\",\n",
    "    port=\"5432\"\n",
    ")\n",
    "psycopg2.extras.register_uuid(conn)"
   ]
  },
  {
   "cell_type": "code",
   "execution_count": 32,
   "metadata": {},
   "outputs": [],
   "source": [
    "cur = conn.cursor()\n",
    "\n",
    "for user in users:\n",
    "    cur.execute('INSERT INTO \"user\" (id, username, pwd) VALUES (%s, %s, %s)',\n",
    "                (user['id'], user['username'], user['pwd']))\n",
    "\n",
    "for profile in profiles:\n",
    "    cur.execute('INSERT INTO profile (id, email, phone, about_me, user_id) VALUES (%s, %s, %s, %s, %s)',\n",
    "                (profile['id'], profile['email'], profile['phone'], profile['about_me'], profile['user_id']))\n",
    "\n",
    "for user in users:\n",
    "    cur.execute('UPDATE \"user\" SET profile_id = %s WHERE id = %s',\n",
    "                (user['profile_id'], user['id']))\n",
    "    \n",
    "for app in apps:\n",
    "    cur.execute('INSERT INTO app (id, title, downloads, price, recommend, profit, genre) VALUES (%s, %s, %s, %s, %s, %s, %s)',\n",
    "                (app['id'], app['title'], app['downloads'], app['price'], app['recommend'], app['profit'], app['genre']))\n",
    "\n",
    "for i, j in random_pairs:\n",
    "    cur.execute('INSERT INTO app_user VALUES (%s, %s)',\n",
    "                (i, j))\n",
    "\n",
    "for comment in comments:\n",
    "    cur.execute('INSERT INTO comment VALUES (%s, %s, %s, %s, %s)',\n",
    "                (comment['id'], comment['stars'], comment['comment_text'], comment['user_id'], comment['app_id']))\n",
    "    \n",
    "for payment in payments:\n",
    "    cur.execute('INSERT INTO payment VALUES (%s, %s, %s, %s, %s)',\n",
    "                (payment['id'], payment['cash'], datetime.fromtimestamp(payment['payment_date']), payment['user_id'], payment['app_id']))\n",
    "    \n",
    "for session in sessions:\n",
    "    cur.execute('INSERT INTO session VALUES (%s, %s, %s, %s, %s)',\n",
    "                (session['id'], session['start_date'], session['end_date'], session['user_id'], session['app_id']))\n",
    "\n",
    "conn.commit()\n",
    "cur.close()\n"
   ]
  },
  {
   "cell_type": "code",
   "execution_count": 78,
   "metadata": {},
   "outputs": [],
   "source": [
    "conn.close()"
   ]
  }
 ],
 "metadata": {
  "kernelspec": {
   "display_name": "Python 3",
   "language": "python",
   "name": "python3"
  },
  "language_info": {
   "codemirror_mode": {
    "name": "ipython",
    "version": 3
   },
   "file_extension": ".py",
   "mimetype": "text/x-python",
   "name": "python",
   "nbconvert_exporter": "python",
   "pygments_lexer": "ipython3",
   "version": "3.11.0"
  }
 },
 "nbformat": 4,
 "nbformat_minor": 2
}
