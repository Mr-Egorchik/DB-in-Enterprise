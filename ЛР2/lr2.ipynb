{
 "cells": [
  {
   "cell_type": "code",
   "execution_count": 102,
   "metadata": {},
   "outputs": [],
   "source": [
    "import pandas as pd\n",
    "from sklearn.ensemble import RandomForestClassifier"
   ]
  },
  {
   "cell_type": "code",
   "execution_count": 108,
   "metadata": {},
   "outputs": [
    {
     "data": {
      "text/html": [
       "<div>\n",
       "<style scoped>\n",
       "    .dataframe tbody tr th:only-of-type {\n",
       "        vertical-align: middle;\n",
       "    }\n",
       "\n",
       "    .dataframe tbody tr th {\n",
       "        vertical-align: top;\n",
       "    }\n",
       "\n",
       "    .dataframe thead th {\n",
       "        text-align: right;\n",
       "    }\n",
       "</style>\n",
       "<table border=\"1\" class=\"dataframe\">\n",
       "  <thead>\n",
       "    <tr style=\"text-align: right;\">\n",
       "      <th></th>\n",
       "      <th>id</th>\n",
       "      <th>title</th>\n",
       "      <th>genre</th>\n",
       "      <th>user_count</th>\n",
       "      <th>session_count</th>\n",
       "      <th>total_time</th>\n",
       "      <th>payment_count</th>\n",
       "      <th>total_cash</th>\n",
       "      <th>total_reviews</th>\n",
       "      <th>one_star</th>\n",
       "      <th>two_stars</th>\n",
       "      <th>three_stars</th>\n",
       "      <th>four_stars</th>\n",
       "      <th>five_stars</th>\n",
       "      <th>price</th>\n",
       "      <th>recommend</th>\n",
       "    </tr>\n",
       "  </thead>\n",
       "  <tbody>\n",
       "    <tr>\n",
       "      <th>0</th>\n",
       "      <td>00ae27c0-d33e-448e-88a5-b30e8e54be60</td>\n",
       "      <td>Method herself word class like future.</td>\n",
       "      <td>Game</td>\n",
       "      <td>1186</td>\n",
       "      <td>5806</td>\n",
       "      <td>2.882316e+08</td>\n",
       "      <td>2950</td>\n",
       "      <td>149074</td>\n",
       "      <td>1044</td>\n",
       "      <td>220</td>\n",
       "      <td>251</td>\n",
       "      <td>156</td>\n",
       "      <td>218</td>\n",
       "      <td>199</td>\n",
       "      <td>7.60</td>\n",
       "      <td>False</td>\n",
       "    </tr>\n",
       "    <tr>\n",
       "      <th>1</th>\n",
       "      <td>00d79cf3-de16-4c4d-9737-3b854f5a062c</td>\n",
       "      <td>Discover over choice true involve side.</td>\n",
       "      <td>Social media</td>\n",
       "      <td>1176</td>\n",
       "      <td>5901</td>\n",
       "      <td>2.979011e+08</td>\n",
       "      <td>2932</td>\n",
       "      <td>146187</td>\n",
       "      <td>891</td>\n",
       "      <td>186</td>\n",
       "      <td>116</td>\n",
       "      <td>202</td>\n",
       "      <td>229</td>\n",
       "      <td>158</td>\n",
       "      <td>8.08</td>\n",
       "      <td>False</td>\n",
       "    </tr>\n",
       "    <tr>\n",
       "      <th>2</th>\n",
       "      <td>00f5ead3-9214-451e-858d-15d21787dd25</td>\n",
       "      <td>Less cup whatever weight effort turn include.</td>\n",
       "      <td>Business</td>\n",
       "      <td>1137</td>\n",
       "      <td>5729</td>\n",
       "      <td>2.852369e+08</td>\n",
       "      <td>2828</td>\n",
       "      <td>145761</td>\n",
       "      <td>813</td>\n",
       "      <td>184</td>\n",
       "      <td>226</td>\n",
       "      <td>178</td>\n",
       "      <td>143</td>\n",
       "      <td>82</td>\n",
       "      <td>4.08</td>\n",
       "      <td>False</td>\n",
       "    </tr>\n",
       "    <tr>\n",
       "      <th>3</th>\n",
       "      <td>0146c5a7-61f0-4878-ace5-561650dad953</td>\n",
       "      <td>Brother walk always when Mrs plan trip.</td>\n",
       "      <td>Food</td>\n",
       "      <td>1202</td>\n",
       "      <td>5913</td>\n",
       "      <td>2.970030e+08</td>\n",
       "      <td>3025</td>\n",
       "      <td>153323</td>\n",
       "      <td>1033</td>\n",
       "      <td>192</td>\n",
       "      <td>254</td>\n",
       "      <td>204</td>\n",
       "      <td>204</td>\n",
       "      <td>179</td>\n",
       "      <td>5.81</td>\n",
       "      <td>False</td>\n",
       "    </tr>\n",
       "    <tr>\n",
       "      <th>4</th>\n",
       "      <td>01bc613a-2336-4ec0-befd-d0c8ac0eb98b</td>\n",
       "      <td>Though source easy feel. Score news great resp...</td>\n",
       "      <td>Social media</td>\n",
       "      <td>1226</td>\n",
       "      <td>6204</td>\n",
       "      <td>3.126992e+08</td>\n",
       "      <td>3052</td>\n",
       "      <td>150667</td>\n",
       "      <td>1025</td>\n",
       "      <td>192</td>\n",
       "      <td>253</td>\n",
       "      <td>198</td>\n",
       "      <td>214</td>\n",
       "      <td>168</td>\n",
       "      <td>3.91</td>\n",
       "      <td>False</td>\n",
       "    </tr>\n",
       "  </tbody>\n",
       "</table>\n",
       "</div>"
      ],
      "text/plain": [
       "                                     id  \\\n",
       "0  00ae27c0-d33e-448e-88a5-b30e8e54be60   \n",
       "1  00d79cf3-de16-4c4d-9737-3b854f5a062c   \n",
       "2  00f5ead3-9214-451e-858d-15d21787dd25   \n",
       "3  0146c5a7-61f0-4878-ace5-561650dad953   \n",
       "4  01bc613a-2336-4ec0-befd-d0c8ac0eb98b   \n",
       "\n",
       "                                               title         genre  \\\n",
       "0             Method herself word class like future.          Game   \n",
       "1            Discover over choice true involve side.  Social media   \n",
       "2      Less cup whatever weight effort turn include.      Business   \n",
       "3            Brother walk always when Mrs plan trip.          Food   \n",
       "4  Though source easy feel. Score news great resp...  Social media   \n",
       "\n",
       "   user_count  session_count    total_time  payment_count  total_cash  \\\n",
       "0        1186           5806  2.882316e+08           2950      149074   \n",
       "1        1176           5901  2.979011e+08           2932      146187   \n",
       "2        1137           5729  2.852369e+08           2828      145761   \n",
       "3        1202           5913  2.970030e+08           3025      153323   \n",
       "4        1226           6204  3.126992e+08           3052      150667   \n",
       "\n",
       "   total_reviews  one_star  two_stars  three_stars  four_stars  five_stars  \\\n",
       "0           1044       220        251          156         218         199   \n",
       "1            891       186        116          202         229         158   \n",
       "2            813       184        226          178         143          82   \n",
       "3           1033       192        254          204         204         179   \n",
       "4           1025       192        253          198         214         168   \n",
       "\n",
       "   price  recommend  \n",
       "0   7.60      False  \n",
       "1   8.08      False  \n",
       "2   4.08      False  \n",
       "3   5.81      False  \n",
       "4   3.91      False  "
      ]
     },
     "execution_count": 108,
     "metadata": {},
     "output_type": "execute_result"
    }
   ],
   "source": [
    "df = pd.read_csv('df.csv')\n",
    "df.drop('Unnamed: 0', axis=1, inplace=True)\n",
    "df.head()"
   ]
  },
  {
   "cell_type": "markdown",
   "metadata": {},
   "source": [
    "Добавим столбец \"Средний рейтинг\""
   ]
  },
  {
   "cell_type": "code",
   "execution_count": 109,
   "metadata": {},
   "outputs": [
    {
     "data": {
      "text/html": [
       "<div>\n",
       "<style scoped>\n",
       "    .dataframe tbody tr th:only-of-type {\n",
       "        vertical-align: middle;\n",
       "    }\n",
       "\n",
       "    .dataframe tbody tr th {\n",
       "        vertical-align: top;\n",
       "    }\n",
       "\n",
       "    .dataframe thead th {\n",
       "        text-align: right;\n",
       "    }\n",
       "</style>\n",
       "<table border=\"1\" class=\"dataframe\">\n",
       "  <thead>\n",
       "    <tr style=\"text-align: right;\">\n",
       "      <th></th>\n",
       "      <th>id</th>\n",
       "      <th>title</th>\n",
       "      <th>genre</th>\n",
       "      <th>user_count</th>\n",
       "      <th>session_count</th>\n",
       "      <th>total_time</th>\n",
       "      <th>payment_count</th>\n",
       "      <th>total_cash</th>\n",
       "      <th>total_reviews</th>\n",
       "      <th>one_star</th>\n",
       "      <th>two_stars</th>\n",
       "      <th>three_stars</th>\n",
       "      <th>four_stars</th>\n",
       "      <th>five_stars</th>\n",
       "      <th>price</th>\n",
       "      <th>recommend</th>\n",
       "      <th>mean_rate</th>\n",
       "    </tr>\n",
       "  </thead>\n",
       "  <tbody>\n",
       "    <tr>\n",
       "      <th>0</th>\n",
       "      <td>00ae27c0-d33e-448e-88a5-b30e8e54be60</td>\n",
       "      <td>Method herself word class like future.</td>\n",
       "      <td>Game</td>\n",
       "      <td>1186</td>\n",
       "      <td>5806</td>\n",
       "      <td>2.882316e+08</td>\n",
       "      <td>2950</td>\n",
       "      <td>149074</td>\n",
       "      <td>1044</td>\n",
       "      <td>220</td>\n",
       "      <td>251</td>\n",
       "      <td>156</td>\n",
       "      <td>218</td>\n",
       "      <td>199</td>\n",
       "      <td>7.60</td>\n",
       "      <td>False</td>\n",
       "      <td>2.928161</td>\n",
       "    </tr>\n",
       "    <tr>\n",
       "      <th>1</th>\n",
       "      <td>00d79cf3-de16-4c4d-9737-3b854f5a062c</td>\n",
       "      <td>Discover over choice true involve side.</td>\n",
       "      <td>Social media</td>\n",
       "      <td>1176</td>\n",
       "      <td>5901</td>\n",
       "      <td>2.979011e+08</td>\n",
       "      <td>2932</td>\n",
       "      <td>146187</td>\n",
       "      <td>891</td>\n",
       "      <td>186</td>\n",
       "      <td>116</td>\n",
       "      <td>202</td>\n",
       "      <td>229</td>\n",
       "      <td>158</td>\n",
       "      <td>8.08</td>\n",
       "      <td>False</td>\n",
       "      <td>3.063973</td>\n",
       "    </tr>\n",
       "    <tr>\n",
       "      <th>2</th>\n",
       "      <td>00f5ead3-9214-451e-858d-15d21787dd25</td>\n",
       "      <td>Less cup whatever weight effort turn include.</td>\n",
       "      <td>Business</td>\n",
       "      <td>1137</td>\n",
       "      <td>5729</td>\n",
       "      <td>2.852369e+08</td>\n",
       "      <td>2828</td>\n",
       "      <td>145761</td>\n",
       "      <td>813</td>\n",
       "      <td>184</td>\n",
       "      <td>226</td>\n",
       "      <td>178</td>\n",
       "      <td>143</td>\n",
       "      <td>82</td>\n",
       "      <td>4.08</td>\n",
       "      <td>False</td>\n",
       "      <td>2.646986</td>\n",
       "    </tr>\n",
       "    <tr>\n",
       "      <th>3</th>\n",
       "      <td>0146c5a7-61f0-4878-ace5-561650dad953</td>\n",
       "      <td>Brother walk always when Mrs plan trip.</td>\n",
       "      <td>Food</td>\n",
       "      <td>1202</td>\n",
       "      <td>5913</td>\n",
       "      <td>2.970030e+08</td>\n",
       "      <td>3025</td>\n",
       "      <td>153323</td>\n",
       "      <td>1033</td>\n",
       "      <td>192</td>\n",
       "      <td>254</td>\n",
       "      <td>204</td>\n",
       "      <td>204</td>\n",
       "      <td>179</td>\n",
       "      <td>5.81</td>\n",
       "      <td>False</td>\n",
       "      <td>2.926428</td>\n",
       "    </tr>\n",
       "    <tr>\n",
       "      <th>4</th>\n",
       "      <td>01bc613a-2336-4ec0-befd-d0c8ac0eb98b</td>\n",
       "      <td>Though source easy feel. Score news great resp...</td>\n",
       "      <td>Social media</td>\n",
       "      <td>1226</td>\n",
       "      <td>6204</td>\n",
       "      <td>3.126992e+08</td>\n",
       "      <td>3052</td>\n",
       "      <td>150667</td>\n",
       "      <td>1025</td>\n",
       "      <td>192</td>\n",
       "      <td>253</td>\n",
       "      <td>198</td>\n",
       "      <td>214</td>\n",
       "      <td>168</td>\n",
       "      <td>3.91</td>\n",
       "      <td>False</td>\n",
       "      <td>2.915122</td>\n",
       "    </tr>\n",
       "  </tbody>\n",
       "</table>\n",
       "</div>"
      ],
      "text/plain": [
       "                                     id  \\\n",
       "0  00ae27c0-d33e-448e-88a5-b30e8e54be60   \n",
       "1  00d79cf3-de16-4c4d-9737-3b854f5a062c   \n",
       "2  00f5ead3-9214-451e-858d-15d21787dd25   \n",
       "3  0146c5a7-61f0-4878-ace5-561650dad953   \n",
       "4  01bc613a-2336-4ec0-befd-d0c8ac0eb98b   \n",
       "\n",
       "                                               title         genre  \\\n",
       "0             Method herself word class like future.          Game   \n",
       "1            Discover over choice true involve side.  Social media   \n",
       "2      Less cup whatever weight effort turn include.      Business   \n",
       "3            Brother walk always when Mrs plan trip.          Food   \n",
       "4  Though source easy feel. Score news great resp...  Social media   \n",
       "\n",
       "   user_count  session_count    total_time  payment_count  total_cash  \\\n",
       "0        1186           5806  2.882316e+08           2950      149074   \n",
       "1        1176           5901  2.979011e+08           2932      146187   \n",
       "2        1137           5729  2.852369e+08           2828      145761   \n",
       "3        1202           5913  2.970030e+08           3025      153323   \n",
       "4        1226           6204  3.126992e+08           3052      150667   \n",
       "\n",
       "   total_reviews  one_star  two_stars  three_stars  four_stars  five_stars  \\\n",
       "0           1044       220        251          156         218         199   \n",
       "1            891       186        116          202         229         158   \n",
       "2            813       184        226          178         143          82   \n",
       "3           1033       192        254          204         204         179   \n",
       "4           1025       192        253          198         214         168   \n",
       "\n",
       "   price  recommend  mean_rate  \n",
       "0   7.60      False   2.928161  \n",
       "1   8.08      False   3.063973  \n",
       "2   4.08      False   2.646986  \n",
       "3   5.81      False   2.926428  \n",
       "4   3.91      False   2.915122  "
      ]
     },
     "execution_count": 109,
     "metadata": {},
     "output_type": "execute_result"
    }
   ],
   "source": [
    "df['mean_rate'] = (df['one_star'] + 2*df['two_stars'] + 3*df['three_stars'] + 4*df['four_stars'] + 5*df['five_stars']) / df['total_reviews']\n",
    "df.head()"
   ]
  },
  {
   "cell_type": "code",
   "execution_count": 110,
   "metadata": {},
   "outputs": [
    {
     "data": {
      "text/html": [
       "<div>\n",
       "<style scoped>\n",
       "    .dataframe tbody tr th:only-of-type {\n",
       "        vertical-align: middle;\n",
       "    }\n",
       "\n",
       "    .dataframe tbody tr th {\n",
       "        vertical-align: top;\n",
       "    }\n",
       "\n",
       "    .dataframe thead th {\n",
       "        text-align: right;\n",
       "    }\n",
       "</style>\n",
       "<table border=\"1\" class=\"dataframe\">\n",
       "  <thead>\n",
       "    <tr style=\"text-align: right;\">\n",
       "      <th></th>\n",
       "      <th>user_count</th>\n",
       "      <th>session_count</th>\n",
       "      <th>total_time</th>\n",
       "      <th>payment_count</th>\n",
       "      <th>total_cash</th>\n",
       "      <th>total_reviews</th>\n",
       "      <th>one_star</th>\n",
       "      <th>two_stars</th>\n",
       "      <th>three_stars</th>\n",
       "      <th>four_stars</th>\n",
       "      <th>five_stars</th>\n",
       "      <th>price</th>\n",
       "      <th>mean_rate</th>\n",
       "      <th>genre_Business</th>\n",
       "      <th>genre_Food</th>\n",
       "      <th>genre_Game</th>\n",
       "      <th>genre_Health</th>\n",
       "      <th>genre_Music</th>\n",
       "      <th>genre_Social media</th>\n",
       "    </tr>\n",
       "  </thead>\n",
       "  <tbody>\n",
       "    <tr>\n",
       "      <th>0</th>\n",
       "      <td>1186</td>\n",
       "      <td>5806</td>\n",
       "      <td>2.882316e+08</td>\n",
       "      <td>2950</td>\n",
       "      <td>149074</td>\n",
       "      <td>1044</td>\n",
       "      <td>220</td>\n",
       "      <td>251</td>\n",
       "      <td>156</td>\n",
       "      <td>218</td>\n",
       "      <td>199</td>\n",
       "      <td>7.60</td>\n",
       "      <td>2.928161</td>\n",
       "      <td>False</td>\n",
       "      <td>False</td>\n",
       "      <td>True</td>\n",
       "      <td>False</td>\n",
       "      <td>False</td>\n",
       "      <td>False</td>\n",
       "    </tr>\n",
       "    <tr>\n",
       "      <th>1</th>\n",
       "      <td>1176</td>\n",
       "      <td>5901</td>\n",
       "      <td>2.979011e+08</td>\n",
       "      <td>2932</td>\n",
       "      <td>146187</td>\n",
       "      <td>891</td>\n",
       "      <td>186</td>\n",
       "      <td>116</td>\n",
       "      <td>202</td>\n",
       "      <td>229</td>\n",
       "      <td>158</td>\n",
       "      <td>8.08</td>\n",
       "      <td>3.063973</td>\n",
       "      <td>False</td>\n",
       "      <td>False</td>\n",
       "      <td>False</td>\n",
       "      <td>False</td>\n",
       "      <td>False</td>\n",
       "      <td>True</td>\n",
       "    </tr>\n",
       "    <tr>\n",
       "      <th>2</th>\n",
       "      <td>1137</td>\n",
       "      <td>5729</td>\n",
       "      <td>2.852369e+08</td>\n",
       "      <td>2828</td>\n",
       "      <td>145761</td>\n",
       "      <td>813</td>\n",
       "      <td>184</td>\n",
       "      <td>226</td>\n",
       "      <td>178</td>\n",
       "      <td>143</td>\n",
       "      <td>82</td>\n",
       "      <td>4.08</td>\n",
       "      <td>2.646986</td>\n",
       "      <td>True</td>\n",
       "      <td>False</td>\n",
       "      <td>False</td>\n",
       "      <td>False</td>\n",
       "      <td>False</td>\n",
       "      <td>False</td>\n",
       "    </tr>\n",
       "    <tr>\n",
       "      <th>3</th>\n",
       "      <td>1202</td>\n",
       "      <td>5913</td>\n",
       "      <td>2.970030e+08</td>\n",
       "      <td>3025</td>\n",
       "      <td>153323</td>\n",
       "      <td>1033</td>\n",
       "      <td>192</td>\n",
       "      <td>254</td>\n",
       "      <td>204</td>\n",
       "      <td>204</td>\n",
       "      <td>179</td>\n",
       "      <td>5.81</td>\n",
       "      <td>2.926428</td>\n",
       "      <td>False</td>\n",
       "      <td>True</td>\n",
       "      <td>False</td>\n",
       "      <td>False</td>\n",
       "      <td>False</td>\n",
       "      <td>False</td>\n",
       "    </tr>\n",
       "    <tr>\n",
       "      <th>4</th>\n",
       "      <td>1226</td>\n",
       "      <td>6204</td>\n",
       "      <td>3.126992e+08</td>\n",
       "      <td>3052</td>\n",
       "      <td>150667</td>\n",
       "      <td>1025</td>\n",
       "      <td>192</td>\n",
       "      <td>253</td>\n",
       "      <td>198</td>\n",
       "      <td>214</td>\n",
       "      <td>168</td>\n",
       "      <td>3.91</td>\n",
       "      <td>2.915122</td>\n",
       "      <td>False</td>\n",
       "      <td>False</td>\n",
       "      <td>False</td>\n",
       "      <td>False</td>\n",
       "      <td>False</td>\n",
       "      <td>True</td>\n",
       "    </tr>\n",
       "  </tbody>\n",
       "</table>\n",
       "</div>"
      ],
      "text/plain": [
       "   user_count  session_count    total_time  payment_count  total_cash  \\\n",
       "0        1186           5806  2.882316e+08           2950      149074   \n",
       "1        1176           5901  2.979011e+08           2932      146187   \n",
       "2        1137           5729  2.852369e+08           2828      145761   \n",
       "3        1202           5913  2.970030e+08           3025      153323   \n",
       "4        1226           6204  3.126992e+08           3052      150667   \n",
       "\n",
       "   total_reviews  one_star  two_stars  three_stars  four_stars  five_stars  \\\n",
       "0           1044       220        251          156         218         199   \n",
       "1            891       186        116          202         229         158   \n",
       "2            813       184        226          178         143          82   \n",
       "3           1033       192        254          204         204         179   \n",
       "4           1025       192        253          198         214         168   \n",
       "\n",
       "   price  mean_rate  genre_Business  genre_Food  genre_Game  genre_Health  \\\n",
       "0   7.60   2.928161           False       False        True         False   \n",
       "1   8.08   3.063973           False       False       False         False   \n",
       "2   4.08   2.646986            True       False       False         False   \n",
       "3   5.81   2.926428           False        True       False         False   \n",
       "4   3.91   2.915122           False       False       False         False   \n",
       "\n",
       "   genre_Music  genre_Social media  \n",
       "0        False               False  \n",
       "1        False                True  \n",
       "2        False               False  \n",
       "3        False               False  \n",
       "4        False                True  "
      ]
     },
     "execution_count": 110,
     "metadata": {},
     "output_type": "execute_result"
    }
   ],
   "source": [
    "data = df.drop(['id', 'title', 'recommend'], axis=1)\n",
    "data = pd.get_dummies(data=data, columns=['genre'], drop_first=False)\n",
    "data.head()"
   ]
  },
  {
   "cell_type": "code",
   "execution_count": 111,
   "metadata": {},
   "outputs": [
    {
     "data": {
      "text/plain": [
       "0    False\n",
       "1    False\n",
       "2    False\n",
       "3    False\n",
       "4    False\n",
       "Name: recommend, dtype: bool"
      ]
     },
     "execution_count": 111,
     "metadata": {},
     "output_type": "execute_result"
    }
   ],
   "source": [
    "target = df['recommend']\n",
    "target.head()"
   ]
  },
  {
   "cell_type": "markdown",
   "metadata": {},
   "source": [
    "Построим baseline-модель"
   ]
  },
  {
   "cell_type": "code",
   "execution_count": 112,
   "metadata": {},
   "outputs": [],
   "source": [
    "from sklearn.model_selection import train_test_split"
   ]
  },
  {
   "cell_type": "code",
   "execution_count": 113,
   "metadata": {},
   "outputs": [],
   "source": [
    "X_train, X_test, y_train, y_test = train_test_split(data, target, test_size = 0.3, random_state = 42)"
   ]
  },
  {
   "cell_type": "code",
   "execution_count": 114,
   "metadata": {},
   "outputs": [],
   "source": [
    "baseline = RandomForestClassifier()\n",
    "baseline.fit(X_train, y_train)\n",
    "preds = baseline.predict(X_test)"
   ]
  },
  {
   "cell_type": "code",
   "execution_count": 115,
   "metadata": {},
   "outputs": [],
   "source": [
    "from sklearn.metrics import classification_report"
   ]
  },
  {
   "cell_type": "code",
   "execution_count": 116,
   "metadata": {},
   "outputs": [
    {
     "name": "stdout",
     "output_type": "stream",
     "text": [
      "              precision    recall  f1-score   support\n",
      "\n",
      "       False       0.98      0.97      0.97       116\n",
      "        True       0.89      0.94      0.91        34\n",
      "\n",
      "    accuracy                           0.96       150\n",
      "   macro avg       0.94      0.95      0.94       150\n",
      "weighted avg       0.96      0.96      0.96       150\n",
      "\n"
     ]
    }
   ],
   "source": [
    "print(classification_report(y_test, preds))"
   ]
  },
  {
   "cell_type": "code",
   "execution_count": 117,
   "metadata": {},
   "outputs": [],
   "source": [
    "from sklearn.metrics import confusion_matrix"
   ]
  },
  {
   "cell_type": "code",
   "execution_count": 118,
   "metadata": {},
   "outputs": [
    {
     "data": {
      "text/plain": [
       "array([[112,   4],\n",
       "       [  2,  32]], dtype=int64)"
      ]
     },
     "execution_count": 118,
     "metadata": {},
     "output_type": "execute_result"
    }
   ],
   "source": [
    "confusion_matrix(y_test, preds)"
   ]
  },
  {
   "cell_type": "code",
   "execution_count": 119,
   "metadata": {},
   "outputs": [],
   "source": [
    "preds = baseline.predict(X_train)"
   ]
  },
  {
   "cell_type": "code",
   "execution_count": 120,
   "metadata": {},
   "outputs": [
    {
     "name": "stdout",
     "output_type": "stream",
     "text": [
      "              precision    recall  f1-score   support\n",
      "\n",
      "       False       1.00      1.00      1.00       264\n",
      "        True       1.00      1.00      1.00        86\n",
      "\n",
      "    accuracy                           1.00       350\n",
      "   macro avg       1.00      1.00      1.00       350\n",
      "weighted avg       1.00      1.00      1.00       350\n",
      "\n"
     ]
    }
   ],
   "source": [
    "print(classification_report(y_train, preds))"
   ]
  },
  {
   "cell_type": "markdown",
   "metadata": {},
   "source": [
    "Даже baseline показывает крайне хорошие метрики"
   ]
  },
  {
   "cell_type": "markdown",
   "metadata": {},
   "source": [
    "Уменьшим количество признаков. Количество признаков определим исходя из метрик кросс-валидации на baseline-модели"
   ]
  },
  {
   "cell_type": "code",
   "execution_count": 121,
   "metadata": {},
   "outputs": [],
   "source": [
    "from sklearn.model_selection import cross_val_score"
   ]
  },
  {
   "cell_type": "code",
   "execution_count": 122,
   "metadata": {},
   "outputs": [],
   "source": [
    "import matplotlib.pyplot as plt"
   ]
  },
  {
   "cell_type": "code",
   "execution_count": 125,
   "metadata": {},
   "outputs": [],
   "source": [
    "from sklearn.feature_selection import SelectKBest\n",
    "from sklearn.feature_selection import f_classif"
   ]
  },
  {
   "cell_type": "code",
   "execution_count": 127,
   "metadata": {},
   "outputs": [],
   "source": [
    "crossval_score = []\n",
    "\n",
    "for i in range(1, data.shape[1] + 1):\n",
    "    skb = SelectKBest(score_func=f_classif, k=i)\n",
    "    Xreduced = skb.fit_transform(data, target)\n",
    "    scores = cross_val_score(baseline, Xreduced, target, cv = 5)\n",
    "    crossval_score.append(scores.mean())"
   ]
  },
  {
   "cell_type": "code",
   "execution_count": 128,
   "metadata": {},
   "outputs": [
    {
     "data": {
      "text/plain": [
       "<matplotlib.collections.PathCollection at 0x20188d33b10>"
      ]
     },
     "execution_count": 128,
     "metadata": {},
     "output_type": "execute_result"
    },
    {
     "data": {
      "image/png": "[encoded data removed]",
      "text/plain": [
       "<Figure size 640x480 with 1 Axes>"
      ]
     },
     "metadata": {},
     "output_type": "display_data"
    }
   ],
   "source": [
    "plt.plot(range(1, data.shape[1] + 1), crossval_score)\n",
    "plt.grid()\n",
    "plt.scatter(crossval_score.index(max(crossval_score)) + 1, max(crossval_score), c='r')"
   ]
  },
  {
   "cell_type": "markdown",
   "metadata": {},
   "source": [
    "Максимум при $n_{components}=14$"
   ]
  },
  {
   "cell_type": "code",
   "execution_count": 129,
   "metadata": {},
   "outputs": [],
   "source": [
    "skb = SelectKBest(score_func=f_classif, k=14)\n",
    "X_new = skb.fit_transform(data, target)"
   ]
  },
  {
   "cell_type": "code",
   "execution_count": 130,
   "metadata": {},
   "outputs": [],
   "source": [
    "X_train = skb.transform(X_train)\n",
    "X_test = skb.transform(X_test)"
   ]
  },
  {
   "cell_type": "markdown",
   "metadata": {},
   "source": [
    "Теперь определим оптимальные гиперпараметры модели - n_estimators, max_features и min_samples_leaf"
   ]
  },
  {
   "cell_type": "code",
   "execution_count": 131,
   "metadata": {},
   "outputs": [],
   "source": [
    "from sklearn.model_selection import RandomizedSearchCV"
   ]
  },
  {
   "cell_type": "code",
   "execution_count": 132,
   "metadata": {},
   "outputs": [],
   "source": [
    "grid = {\n",
    "    'n_estimators': list(range(10, 100, 5)),\n",
    "    'max_features': list(range(1, X_new.shape[1] + 1)),\n",
    "    'min_samples_leaf': list(range(1, 15))\n",
    "}"
   ]
  },
  {
   "cell_type": "code",
   "execution_count": 133,
   "metadata": {},
   "outputs": [],
   "source": [
    "clf = RandomizedSearchCV(baseline, grid, random_state=42)\n",
    "search = clf.fit(X_new, target)"
   ]
  },
  {
   "cell_type": "code",
   "execution_count": 134,
   "metadata": {},
   "outputs": [
    {
     "data": {
      "text/plain": [
       "{'n_estimators': 80, 'min_samples_leaf': 4, 'max_features': 13}"
      ]
     },
     "execution_count": 134,
     "metadata": {},
     "output_type": "execute_result"
    }
   ],
   "source": [
    "search.best_params_"
   ]
  },
  {
   "cell_type": "markdown",
   "metadata": {},
   "source": [
    "Оценим модель с такими гиперпараметрами"
   ]
  },
  {
   "cell_type": "code",
   "execution_count": 135,
   "metadata": {},
   "outputs": [
    {
     "name": "stdout",
     "output_type": "stream",
     "text": [
      "              precision    recall  f1-score   support\n",
      "\n",
      "       False       0.97      0.97      0.97       116\n",
      "        True       0.89      0.91      0.90        34\n",
      "\n",
      "    accuracy                           0.95       150\n",
      "   macro avg       0.93      0.94      0.93       150\n",
      "weighted avg       0.95      0.95      0.95       150\n",
      "\n"
     ]
    }
   ],
   "source": [
    "model = RandomForestClassifier(n_estimators=80, min_samples_leaf=4, max_features=13)\n",
    "model.fit(X_train, y_train)\n",
    "preds = model.predict(X_test)\n",
    "print(classification_report(y_test, preds))"
   ]
  },
  {
   "cell_type": "code",
   "execution_count": 136,
   "metadata": {},
   "outputs": [
    {
     "data": {
      "text/plain": [
       "array([[112,   4],\n",
       "       [  3,  31]], dtype=int64)"
      ]
     },
     "execution_count": 136,
     "metadata": {},
     "output_type": "execute_result"
    }
   ],
   "source": [
    "confusion_matrix(y_test, preds)"
   ]
  },
  {
   "cell_type": "code",
   "execution_count": null,
   "metadata": {},
   "outputs": [],
   "source": []
  }
 ],
 "metadata": {
  "kernelspec": {
   "display_name": "Python 3",
   "language": "python",
   "name": "python3"
  },
  "language_info": {
   "codemirror_mode": {
    "name": "ipython",
    "version": 3
   },
   "file_extension": ".py",
   "mimetype": "text/x-python",
   "name": "python",
   "nbconvert_exporter": "python",
   "pygments_lexer": "ipython3",
   "version": "3.11.0"
  }
 },
 "nbformat": 4,
 "nbformat_minor": 2
}
